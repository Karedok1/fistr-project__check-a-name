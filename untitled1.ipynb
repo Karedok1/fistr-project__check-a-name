{
  "cells": [
    {
      "cell_type": "markdown",
      "metadata": {
        "id": "view-in-github",
        "colab_type": "text"
      },
      "source": [
        "<a href=\"https://colab.research.google.com/github/Karedok1/fistr-project__check-a-name/blob/main/untitled1.ipynb\" target=\"_parent\"><img src=\"https://colab.research.google.com/assets/colab-badge.svg\" alt=\"Open In Colab\"/></a>"
      ]
    },
    {
      "cell_type": "markdown",
      "metadata": {
        "id": "d45LgKy1Z2sv"
      },
      "source": [
        "# New Section"
      ]
    },
    {
      "cell_type": "markdown",
      "metadata": {
        "id": "ZgY1wT45KNi7"
      },
      "source": []
    },
    {
      "cell_type": "code",
      "source": [
        "def kalkulator():\n",
        "  pilihan = [\n",
        "    \"== MENU ==\",\n",
        "    \"1. Penjumlahan\",\n",
        "    \"2. Pengurangan\",\n",
        "    \"3. Perkalian\",\n",
        "    \"4. Pembagian\",\n",
        "    \"5. pangkat\",\n",
        "    \"6. masukan angka pertama: \",\n",
        "    \"7. masukan angka kedua: \",\n",
        "    \"8. keluar\",\n",
        "    \"=====================\"\n",
        "\n",
        "  ]\n",
        "\n",
        "  for item in pilihan:\n",
        "    print(item)\n",
        "\n",
        "\n",
        "  menu = input(\"masukan pilihan anda (1-9):  \")\n",
        "\n",
        "  while True:\n",
        "    if menu == \"1\":\n",
        "      angka_pertama = int(input(\"masukan angka pertama: \"))\n",
        "      angka_kedua = int(input(\"masukan angka kedua: \"))\n",
        "      hasil = angka_pertama + angka_kedua\n",
        "      return hasil\n",
        "    elif menu == \"2\":\n",
        "      angka_pertama = int(input(\"masukan angka pertama: \"))\n",
        "      angka_kedua = int(input(\"masukan angka kedua: \"))\n",
        "      hasil = angka_pertama - angka_kedua\n",
        "      return hasil\n",
        "    elif menu == \"3\":\n",
        "      angka_pertama = int(input(\"masukan angka pertama: \"))\n",
        "      angka_kedua = int(input(\"masukan angka kedua: \"))\n",
        "      hasil = angka_pertama * angka_kedua\n",
        "      return hasil\n",
        "    elif menu == \"4\":\n",
        "      angka_pertama = int(input(\"masukan angka pertama: \"))\n",
        "      angka_kedua = int(input(\"masukan angka kedua: \"))\n",
        "      hasil = angka_pertama / angka_kedua\n",
        "      return hasil\n",
        "    elif menu == \"5\":\n",
        "      angka_pertama = int(input(\"masukan angka pertama: \"))\n",
        "      angka_kedua = int(input(\"masukan angka kedua: \"))\n",
        "      hasil = angka_pertama ** angka_kedua\n",
        "      return hasil\n",
        "    elif menu == \"8\":\n",
        "      return keluar\n",
        "    else:\n",
        "      print(keluar)\n",
        "      break\n",
        "\n",
        "\n",
        "kalkulator()\n"
      ],
      "metadata": {
        "id": "0M32cFsTuQA4",
        "colab": {
          "base_uri": "https://localhost:8080/"
        },
        "outputId": "0c9119ae-72bd-4d01-b9d2-e338ee1cc4f5"
      },
      "execution_count": null,
      "outputs": [
        {
          "name": "stdout",
          "output_type": "stream",
          "text": [
            "== MENU ==\n",
            "1. Penjumlahan\n",
            "2. Pengurangan\n",
            "3. Perkalian\n",
            "4. Pembagian\n",
            "5. pangkat\n",
            "6. masukan angka pertama: \n",
            "7. masukan angka kedua: \n",
            "8. keluar\n",
            "=====================\n",
            "masukan pilihan anda (1-9):  5\n",
            "masukan angka pertama: 2\n",
            "masukan angka kedua: 2\n"
          ]
        },
        {
          "output_type": "execute_result",
          "data": {
            "text/plain": [
              "4"
            ]
          },
          "metadata": {},
          "execution_count": 34
        }
      ]
    }
  ],
  "metadata": {
    "colab": {
      "provenance": [],
      "authorship_tag": "ABX9TyOTBZ/3alUMuTJJ5ihJ92rJ",
      "include_colab_link": true
    },
    "kernelspec": {
      "display_name": "Python 3",
      "name": "python3"
    },
    "language_info": {
      "name": "python"
    }
  },
  "nbformat": 4,
  "nbformat_minor": 0
}