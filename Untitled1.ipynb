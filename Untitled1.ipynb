{
  "cells": [
    {
      "cell_type": "markdown",
      "metadata": {
        "id": "view-in-github",
        "colab_type": "text"
      },
      "source": [
        "<a href=\"https://colab.research.google.com/github/Karedok1/fistr-project__check-a-name/blob/main/Untitled1.ipynb\" target=\"_parent\"><img src=\"https://colab.research.google.com/assets/colab-badge.svg\" alt=\"Open In Colab\"/></a>"
      ]
    },
    {
      "cell_type": "markdown",
      "metadata": {
        "id": "d45LgKy1Z2sv"
      },
      "source": [
        "# New Section"
      ]
    },
    {
      "cell_type": "code",
      "source": [
        "class Tugas:\n",
        "    def __init__(self, nama):\n",
        "      self.nama = nama\n",
        "      self.selesai = False\n",
        "\n",
        "    def tandai_selesai(self):\n",
        "      self.selesai = True\n",
        "\n",
        "    def __str__(self):\n",
        "      status = \"✅\" if self.selesai else \"❌\"\n",
        "      return f\"{status} {self.nama}\"\n",
        "\n",
        "class DaftarTugas:\n",
        "   def __init__(self):\n",
        "        self.Tugas_list = []\n",
        "\n",
        "   def tambah_Tugas(self,nama):\n",
        "          Tugas = Tugas(nama)\n",
        "          self.Tugas_list.append(Tugas)\n",
        "\n",
        "   def tampilkan_Tugas(self):\n",
        "       if not self.Tugas_list:\n",
        "          print(\"belum ada tugas.\")\n",
        "       for i, Tugas in enumerate(self.tugas_list, 1):\n",
        "          print(f\"{i}. {Tugas}\")\n",
        "\n",
        "   def tandai_selesai(self, index):\n",
        "        try:\n",
        "          self.Tugas_list[index - 1].tandai_selesai()\n",
        "        except IndexError:\n",
        "          print(\"tugas tidak ditemukan.\")\n",
        "\n",
        "   def hapus_tugas(self,index):\n",
        "        try:\n",
        "          self.Tugas_list.pop(index - 1)\n",
        "        except IndexError:\n",
        "          print(\"tugas tidak ditemukan.\")\n",
        "\n",
        "   def filter_Tugas(self, status= \"belum\"):\n",
        "        if status == \"belum\":\n",
        "          hasil = list(filter(lambda x:not x.selesai, self.tugas_list ))\n",
        "        else:\n",
        "          hasil = list(filter(lambda x: x.selesai, self.tugas_list))\n",
        "        for i, tugas in enumerate(hasil, 1):\n",
        "          print(f\"{i}. {tugas}\")\n",
        "   def main():\n",
        "    daftar = DaftarTugas()\n",
        "    while True:\n",
        "        print(\"\\n===== MENU =====\")\n",
        "        print(\"1. Tambah Tugas\")\n",
        "        print(\"2. Tampilkan Semua Tugas\")\n",
        "        print(\"3. Tandai Selesai\")\n",
        "        print(\"4. Hapus Tugas\")\n",
        "        print(\"5. Filter Tugas Belum Selesai\")\n",
        "        print(\"6. Filter Tugas Selesai\")\n",
        "        print(\"0. Keluar\")\n",
        "        pilih = input(\"Pilih menu: \")\n",
        "\n",
        "        if pilih == \"1\":\n",
        "            nama = input(\"Nama tugas: \")\n",
        "            daftar.tambah_tugas(nama)\n",
        "        elif pilih == \"2\":\n",
        "            daftar.tampilkan_tugas()\n",
        "        elif pilih == \"3\":\n",
        "            try:\n",
        "                no = int(input(\"Nomor tugas yang selesai: \"))\n",
        "                daftar.tandai_selesai(no)\n",
        "            except ValueError:\n",
        "                print(\"Masukkan angka!\")\n",
        "        elif pilih == \"4\":\n",
        "            try:\n",
        "                no = int(input(\"Nomor tugas yang ingin dihapus: \"))\n",
        "                daftar.hapus_tugas(no)\n",
        "            except ValueError:\n",
        "                print(\"Masukkan angka!\")\n",
        "        elif pilih == \"5\":\n",
        "            daftar.filter_tugas(\"belum\")\n",
        "        elif pilih == \"6\":\n",
        "            daftar.filter_tugas(\"selesai\")\n",
        "        elif pilih == \"0\":\n",
        "            print(\"Terima kasih telah menggunakan aplikasi.\")\n",
        "            break\n",
        "        else:\n",
        "            print(\"Pilihan tidak valid.\")\n",
        "\n",
        "if __name__ == \"__main__\":\n",
        "    main()\n",
        "\n",
        "\n"
      ],
      "metadata": {
        "colab": {
          "base_uri": "https://localhost:8080/",
          "height": 828
        },
        "id": "CVieKpT_JhA7",
        "outputId": "a662aa53-1e72-4889-d3b1-8b396a736593"
      },
      "execution_count": 16,
      "outputs": [
        {
          "output_type": "stream",
          "name": "stdout",
          "text": [
            "\n",
            "1. Tambah Barang\n",
            "2. Tampilkan Keranjang\n",
            "3. Cetak Struk\n",
            "0. Keluar\n",
            "Pilih menu: 1\n",
            "Nama Barang: susu\n",
            "Harga: 12_000\n",
            "\n",
            "1. Tambah Barang\n",
            "2. Tampilkan Keranjang\n",
            "3. Cetak Struk\n",
            "0. Keluar\n",
            "Pilih menu: 3\n",
            "\n",
            "===== STRUK PEMBELIAN =====\n",
            "1. susu - Rp12000.0\n",
            "Total: Rp12000.0\n",
            "Diskon: Rp0\n",
            "Bayar: Rp12000.0\n",
            "\n",
            "1. Tambah Barang\n",
            "2. Tampilkan Keranjang\n",
            "3. Cetak Struk\n",
            "0. Keluar\n"
          ]
        },
        {
          "output_type": "error",
          "ename": "KeyboardInterrupt",
          "evalue": "Interrupted by user",
          "traceback": [
            "\u001b[0;31m---------------------------------------------------------------------------\u001b[0m",
            "\u001b[0;31mKeyboardInterrupt\u001b[0m                         Traceback (most recent call last)",
            "\u001b[0;32m<ipython-input-16-e5a1726d554e>\u001b[0m in \u001b[0;36m<cell line: 0>\u001b[0;34m()\u001b[0m\n\u001b[1;32m     85\u001b[0m \u001b[0;34m\u001b[0m\u001b[0m\n\u001b[1;32m     86\u001b[0m \u001b[0;32mif\u001b[0m \u001b[0m__name__\u001b[0m \u001b[0;34m==\u001b[0m \u001b[0;34m\"__main__\"\u001b[0m\u001b[0;34m:\u001b[0m\u001b[0;34m\u001b[0m\u001b[0;34m\u001b[0m\u001b[0m\n\u001b[0;32m---> 87\u001b[0;31m     \u001b[0mmain\u001b[0m\u001b[0;34m(\u001b[0m\u001b[0;34m)\u001b[0m\u001b[0;34m\u001b[0m\u001b[0;34m\u001b[0m\u001b[0m\n\u001b[0m\u001b[1;32m     88\u001b[0m \u001b[0;34m\u001b[0m\u001b[0m\n\u001b[1;32m     89\u001b[0m \u001b[0;34m\u001b[0m\u001b[0m\n",
            "\u001b[0;32m<ipython-input-9-9ee807f4673f>\u001b[0m in \u001b[0;36mmain\u001b[0;34m()\u001b[0m\n\u001b[1;32m      3\u001b[0m     \u001b[0;32mwhile\u001b[0m \u001b[0;32mTrue\u001b[0m\u001b[0;34m:\u001b[0m\u001b[0;34m\u001b[0m\u001b[0;34m\u001b[0m\u001b[0m\n\u001b[1;32m      4\u001b[0m         \u001b[0mprint\u001b[0m\u001b[0;34m(\u001b[0m\u001b[0;34m\"\\n1. Tambah Barang\\n2. Tampilkan Keranjang\\n3. Cetak Struk\\n0. Keluar\"\u001b[0m\u001b[0;34m)\u001b[0m\u001b[0;34m\u001b[0m\u001b[0;34m\u001b[0m\u001b[0m\n\u001b[0;32m----> 5\u001b[0;31m         \u001b[0mpilih\u001b[0m \u001b[0;34m=\u001b[0m \u001b[0minput\u001b[0m\u001b[0;34m(\u001b[0m\u001b[0;34m\"Pilih menu: \"\u001b[0m\u001b[0;34m)\u001b[0m\u001b[0;34m\u001b[0m\u001b[0;34m\u001b[0m\u001b[0m\n\u001b[0m\u001b[1;32m      6\u001b[0m         \u001b[0;32mif\u001b[0m \u001b[0mpilih\u001b[0m \u001b[0;34m==\u001b[0m \u001b[0;34m\"1\"\u001b[0m\u001b[0;34m:\u001b[0m\u001b[0;34m\u001b[0m\u001b[0;34m\u001b[0m\u001b[0m\n\u001b[1;32m      7\u001b[0m             \u001b[0;32mtry\u001b[0m\u001b[0;34m:\u001b[0m\u001b[0;34m\u001b[0m\u001b[0;34m\u001b[0m\u001b[0m\n",
            "\u001b[0;32m/usr/local/lib/python3.11/dist-packages/ipykernel/kernelbase.py\u001b[0m in \u001b[0;36mraw_input\u001b[0;34m(self, prompt)\u001b[0m\n\u001b[1;32m   1175\u001b[0m                 \u001b[0;34m\"raw_input was called, but this frontend does not support input requests.\"\u001b[0m\u001b[0;34m\u001b[0m\u001b[0;34m\u001b[0m\u001b[0m\n\u001b[1;32m   1176\u001b[0m             )\n\u001b[0;32m-> 1177\u001b[0;31m         return self._input_request(\n\u001b[0m\u001b[1;32m   1178\u001b[0m             \u001b[0mstr\u001b[0m\u001b[0;34m(\u001b[0m\u001b[0mprompt\u001b[0m\u001b[0;34m)\u001b[0m\u001b[0;34m,\u001b[0m\u001b[0;34m\u001b[0m\u001b[0;34m\u001b[0m\u001b[0m\n\u001b[1;32m   1179\u001b[0m             \u001b[0mself\u001b[0m\u001b[0;34m.\u001b[0m\u001b[0m_parent_ident\u001b[0m\u001b[0;34m[\u001b[0m\u001b[0;34m\"shell\"\u001b[0m\u001b[0;34m]\u001b[0m\u001b[0;34m,\u001b[0m\u001b[0;34m\u001b[0m\u001b[0;34m\u001b[0m\u001b[0m\n",
            "\u001b[0;32m/usr/local/lib/python3.11/dist-packages/ipykernel/kernelbase.py\u001b[0m in \u001b[0;36m_input_request\u001b[0;34m(self, prompt, ident, parent, password)\u001b[0m\n\u001b[1;32m   1217\u001b[0m             \u001b[0;32mexcept\u001b[0m \u001b[0mKeyboardInterrupt\u001b[0m\u001b[0;34m:\u001b[0m\u001b[0;34m\u001b[0m\u001b[0;34m\u001b[0m\u001b[0m\n\u001b[1;32m   1218\u001b[0m                 \u001b[0;31m# re-raise KeyboardInterrupt, to truncate traceback\u001b[0m\u001b[0;34m\u001b[0m\u001b[0;34m\u001b[0m\u001b[0m\n\u001b[0;32m-> 1219\u001b[0;31m                 \u001b[0;32mraise\u001b[0m \u001b[0mKeyboardInterrupt\u001b[0m\u001b[0;34m(\u001b[0m\u001b[0;34m\"Interrupted by user\"\u001b[0m\u001b[0;34m)\u001b[0m \u001b[0;32mfrom\u001b[0m \u001b[0;32mNone\u001b[0m\u001b[0;34m\u001b[0m\u001b[0;34m\u001b[0m\u001b[0m\n\u001b[0m\u001b[1;32m   1220\u001b[0m             \u001b[0;32mexcept\u001b[0m \u001b[0mException\u001b[0m\u001b[0;34m:\u001b[0m\u001b[0;34m\u001b[0m\u001b[0;34m\u001b[0m\u001b[0m\n\u001b[1;32m   1221\u001b[0m                 \u001b[0mself\u001b[0m\u001b[0;34m.\u001b[0m\u001b[0mlog\u001b[0m\u001b[0;34m.\u001b[0m\u001b[0mwarning\u001b[0m\u001b[0;34m(\u001b[0m\u001b[0;34m\"Invalid Message:\"\u001b[0m\u001b[0;34m,\u001b[0m \u001b[0mexc_info\u001b[0m\u001b[0;34m=\u001b[0m\u001b[0;32mTrue\u001b[0m\u001b[0;34m)\u001b[0m\u001b[0;34m\u001b[0m\u001b[0;34m\u001b[0m\u001b[0m\n",
            "\u001b[0;31mKeyboardInterrupt\u001b[0m: Interrupted by user"
          ]
        }
      ]
    },
    {
      "cell_type": "code",
      "source": [],
      "metadata": {
        "id": "cZHWDjpMnqNZ"
      },
      "execution_count": null,
      "outputs": []
    }
  ],
  "metadata": {
    "colab": {
      "provenance": [],
      "authorship_tag": "ABX9TyONlTgzWESSQV6j/z4rWwyJ",
      "include_colab_link": true
    },
    "kernelspec": {
      "display_name": "Python 3",
      "name": "python3"
    },
    "language_info": {
      "name": "python"
    }
  },
  "nbformat": 4,
  "nbformat_minor": 0
}